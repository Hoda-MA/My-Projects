{
 "cells": [
  {
   "cell_type": "markdown",
   "metadata": {},
   "source": [
    "Coronavirus disease (COVID-19) is an infectious disease caused by a newly discovered coronavirus.\n",
    "\n",
    "Most people infected with the COVID-19 virus will experience mild to moderate respiratory illness and recover without requiring special treatment. Older people, and those with underlying medical problems like cardiovascular disease, diabetes, chronic respiratory disease, and cancer are more likely to develop serious illness.\n",
    "\n",
    "First Identified: December 2019 in Wuhan, the capital of Hubei province, China.\n",
    "Most common symptoms:fever.dry cough.tiredness.\n",
    "Less common symptoms:aches and pains.sore throat.diarrhoea.conjunctivitis.headache.loss of taste or smell.\n",
    "Risk factors: Travel, Viral Exposure.\n",
    "Prevention: Hand Washing, Face Coverings, Quarantine, Social Distancing.\n",
    "More Info:https://www.who.int/health-topics/coronavirus#tab=tab_1"
   ]
  },
  {
   "cell_type": "code",
   "execution_count": null,
   "metadata": {},
   "outputs": [],
   "source": [
    "import numpy as np\n",
    "import pandas as pd\n",
    "import matplotlib.pyplot as plt\n",
    "import seaborn as sns\n",
    "%matplotlib inline\n",
    "sns.set_style('whitegrid')\n",
    "#sns.set_palette(sns.xkcd_palette(sample_colors))\n",
    "import warnings\n",
    "warnings.filterwarnings(\"ignore\")"
   ]
  },
  {
   "cell_type": "code",
   "execution_count": null,
   "metadata": {},
   "outputs": [],
   "source": [
    "def my_df_summary(data):\n",
    "    '''Summarizing Function'''\n",
    "    try:\n",
    "        dat = data.copy()\n",
    "        df = pd.DataFrame([dat.min(), dat.max(), dat.mean(), dat.std(), dat.isna().sum(), dat.nunique(), dat.dtypes],\n",
    "                     index=['Minimum', 'Maximum', 'Mittelwert', 'Stand. Abw.','#NA', '#Uniques', 'dtypes'])        \n",
    "        return df\n",
    "    except:\n",
    "        print('No Summary.')\n",
    "        return data  \n"
   ]
  },
  {
   "cell_type": "code",
   "execution_count": null,
   "metadata": {},
   "outputs": [],
   "source": [
    "#Die einmal gesetzten Parameter greifen für alle nachfolgenden Plots, die mit plt erzeugt wurden.\n",
    "plt.rc('font', size=14)          # controls default text sizes\n",
    "plt.rc('axes', titlesize=14)     # fontsize of the axes title\n",
    "plt.rc('axes', labelsize=14)     # fontsize of the x and y labels\n",
    "plt.rc('xtick', labelsize=14)    # fontsize of the tick labels\n",
    "plt.rc('ytick', labelsize=14)    # fontsize of the tick labels\n",
    "plt.rc('legend', fontsize=10)    # legend fontsize\n",
    "plt.rc('figure', titlesize=12)   # fontsize of the figure title\n",
    "plt.rc('lines', linewidth=10, color='r')\n",
    "plt.rcParams['figure.figsize']=(16,8)\n",
    "Set1=['Red', 'Yellow', 'Navy', 'pink','purple','black','Blue']"
   ]
  },
  {
   "cell_type": "code",
   "execution_count": null,
   "metadata": {},
   "outputs": [],
   "source": [
    "#df = pd.read_csv('.csv', sep=';', header=None)\n",
    "\n",
    "corona = pd.read_csv(\"https://raw.githubusercontent.com/CSSEGISandData/COVID-19/web-data/data/cases_country.csv\")\n",
    "corona.head(10)"
   ]
  },
  {
   "cell_type": "code",
   "execution_count": null,
   "metadata": {},
   "outputs": [],
   "source": [
    "corona.info()"
   ]
  },
  {
   "cell_type": "code",
   "execution_count": null,
   "metadata": {},
   "outputs": [],
   "source": [
    "corona1=corona.dropna(how='all', axis=1)\n",
    "#corona.drop(['People_Hospitalized'], axis=1)"
   ]
  },
  {
   "cell_type": "code",
   "execution_count": null,
   "metadata": {
    "scrolled": true
   },
   "outputs": [],
   "source": [
    "corona1.head(10)"
   ]
  },
  {
   "cell_type": "code",
   "execution_count": null,
   "metadata": {},
   "outputs": [],
   "source": [
    "corona1.describe()"
   ]
  },
  {
   "cell_type": "code",
   "execution_count": null,
   "metadata": {},
   "outputs": [],
   "source": [
    "#name of columns\n",
    "corona1.columns"
   ]
  },
  {
   "cell_type": "code",
   "execution_count": null,
   "metadata": {},
   "outputs": [],
   "source": [
    "#number of infected countries\n",
    "corona1['Country_Region'].count()"
   ]
  },
  {
   "cell_type": "code",
   "execution_count": null,
   "metadata": {},
   "outputs": [],
   "source": [
    "#corona1['Deaths']"
   ]
  },
  {
   "cell_type": "code",
   "execution_count": null,
   "metadata": {},
   "outputs": [],
   "source": [
    "involved_countries=corona1['Country_Region'].unique().tolist()\n",
    "involved_countries[20:30]"
   ]
  },
  {
   "cell_type": "code",
   "execution_count": null,
   "metadata": {},
   "outputs": [],
   "source": [
    "Total_confirmed=corona1['Confirmed'].sum()\n",
    "print('\\nGlobal Confirmed Cases from Corona Infection:\\n{}\\n'.format(Total_confirmed))"
   ]
  },
  {
   "cell_type": "code",
   "execution_count": null,
   "metadata": {},
   "outputs": [],
   "source": [
    "Total_death=corona1['Deaths'].sum()\n",
    "print('\\nGlobal Death from Corona Infection:\\n{}\\n'.format(Total_death))"
   ]
  },
  {
   "cell_type": "code",
   "execution_count": null,
   "metadata": {},
   "outputs": [],
   "source": [
    "#where no dead is reported\n",
    "no_dead_countries=list(corona1.loc[corona1['Deaths'] == 0, 'Country_Region'])\n",
    "len(no_dead_countries)"
   ]
  },
  {
   "cell_type": "code",
   "execution_count": null,
   "metadata": {},
   "outputs": [],
   "source": [
    "#The country with the most dead\n",
    "most_dead_country=list(corona1.loc[corona1['Deaths'] == corona1['Deaths'].max() , 'Country_Region'])\n",
    "most_dead_country\n",
    "print('{} reported the most dead from with total of Corona Death {}'.format(most_dead_country, corona1['Deaths'].max()))"
   ]
  },
  {
   "cell_type": "code",
   "execution_count": null,
   "metadata": {},
   "outputs": [],
   "source": [
    "confirmed_US=corona1.loc[corona1['Country_Region'] == 'US' , 'Confirmed']\n",
    "A=confirmed_US/Total_confirmed*100"
   ]
  },
  {
   "cell_type": "code",
   "execution_count": null,
   "metadata": {},
   "outputs": [],
   "source": [
    "#corona1.loc[corona1.Country_Region == 'US','Deaths']"
   ]
  },
  {
   "cell_type": "code",
   "execution_count": null,
   "metadata": {},
   "outputs": [],
   "source": [
    "#No. of Recovered Cases in US\n",
    "corona1.loc[corona1.Country_Region == 'US',  'Recovered'] "
   ]
  },
  {
   "cell_type": "code",
   "execution_count": null,
   "metadata": {},
   "outputs": [],
   "source": [
    "#Ranking the table based on the number of deads\n",
    "sort_by_death = corona1.sort_values('Deaths',ascending=False)\n",
    "sort_by_death.head(3)"
   ]
  },
  {
   "cell_type": "code",
   "execution_count": null,
   "metadata": {
    "scrolled": false
   },
   "outputs": [],
   "source": [
    "sort_by_death['Death_Rate'] = sort_by_death['Deaths'] / sort_by_death['Confirmed'] * 100\n",
    "sort_by_death['Recovery_Rate'] = sort_by_death['Recovered'] / sort_by_death['Confirmed'] * 100\n",
    "sort_by_death['Incident_Rate'].fillna(0, inplace=True)\n",
    "sort_by_death['Confirmed_percentage']=sort_by_death['Confirmed'] / Total_confirmed * 100\n",
    "\n",
    "sort_by_death.drop(['Last_Update', 'Lat', 'Long_', 'UID', 'ISO3', 'Mortality_Rate'], axis=1).head(11)\\\n",
    ".style.hide_index()\\\n",
    ".background_gradient(cmap='Blues',subset=[\"Confirmed\"])\\\n",
    ".background_gradient(cmap='Reds',subset=[\"Deaths\"])\\\n",
    ".background_gradient(cmap='Greens',subset=[\"Recovered\"])\\\n",
    ".background_gradient(cmap='Purples',subset=[\"Active\"])\\\n",
    ".background_gradient(cmap='GnBu',subset=[\"Incident_Rate\"])\\\n",
    ".background_gradient(cmap='OrRd',subset=[\"Death_Rate\"])\\\n",
    ".background_gradient(cmap='PuBu',subset=[\"Recovery_Rate\"])\\\n",
    ".background_gradient(cmap='Blues',subset=[\"Confirmed_percentage\"])\\\n",
    "\n"
   ]
  },
  {
   "cell_type": "code",
   "execution_count": null,
   "metadata": {},
   "outputs": [],
   "source": [
    "#Heat Map\n",
    "sort_by_death.iloc[:,:].corr();\n",
    "plt.figure(figsize=(12,6))\n",
    "sns.heatmap(sort_by_death.corr(),cmap='coolwarm',annot=True)\n",
    "plt.show()"
   ]
  },
  {
   "cell_type": "code",
   "execution_count": null,
   "metadata": {},
   "outputs": [],
   "source": [
    "#confirmed cases percentages per Country\n",
    "#explodeTuple = (0.1, 1.0, 1.0, 0.0, 0.0, 0.0,0.0,.0,0.0,0.0)\n",
    "labels = sort_by_death.Country_Region[:]\n",
    "sizes = sort_by_death.Confirmed_percentage[:]\n",
    "\n",
    "# Plot\n",
    "plt.pie(sizes, labels=labels, \n",
    "        #explode=explodeTuple,\n",
    "        autopct='%0.1f%%', \n",
    "        #shadow=True, \n",
    "        startangle=-60,\n",
    "       )\n",
    "\n",
    "plt.title(\"Confirmed Cases Percentage %\")\n",
    "plt.axis('equal')\n",
    "plt.legend(title=\"Countries\", loc=\"best\")\n",
    "plt.show()"
   ]
  },
  {
   "cell_type": "code",
   "execution_count": null,
   "metadata": {},
   "outputs": [],
   "source": [
    "#Dead Cases Percentages per Country-Top 10\n",
    "explodeTuple = (0.1,0.0, 0.0, 0.0, 0.0, 0.0,0.0,0.0,0.0,0.0)\n",
    "labels = sort_by_death.Country_Region[0:10]\n",
    "sizes = sort_by_death.Deaths[0:10]\n",
    "\n",
    "\n",
    "# Plot\n",
    "plt.pie(sizes, labels=labels, \n",
    "        explode=explodeTuple,\n",
    "        #labels=pieLabels,\n",
    "        autopct='%0.1f%%', \n",
    "        #shadow=True, \n",
    "        startangle=-30,\n",
    "       )\n",
    "\n",
    "plt.title(\"Dead Cases Percentage %\")\n",
    "plt.axis('equal')\n",
    "plt.legend(title=\"Countries\", loc=\"best\")\n",
    "plt.show()"
   ]
  },
  {
   "cell_type": "code",
   "execution_count": null,
   "metadata": {},
   "outputs": [],
   "source": [
    "#Recovered Cases Percentages per Country-To 10\n",
    "explodeTuple = (0.1, 0.0, 0.0, 0.0, 0.0, 0.0,0.0,0.0,0.0,0.0)\n",
    "labels = sort_by_death.Country_Region[0:10]\n",
    "sizes = sort_by_death.Recovered[0:10]\n",
    "\n",
    "# Plot\n",
    "plt.pie(sizes, labels=labels, \n",
    "        explode=explodeTuple,\n",
    "        autopct='%0.1f%%', \n",
    "        #shadow=True, \n",
    "        startangle=-60,\n",
    "       )\n",
    "\n",
    "plt.title(\"Recovered Cases Percentage %\")\n",
    "plt.axis('equal')\n",
    "plt.legend(title=\"Countries\", loc=\"best\")\n",
    "plt.show()"
   ]
  },
  {
   "cell_type": "code",
   "execution_count": null,
   "metadata": {
    "scrolled": true
   },
   "outputs": [],
   "source": [
    "plt.rcParams['figure.figsize']=(10,8)\n",
    "labels = sort_by_death.Country_Region[0:10]\n",
    "sizes = sort_by_death.Deaths[0:10]"
   ]
  },
  {
   "cell_type": "code",
   "execution_count": null,
   "metadata": {},
   "outputs": [],
   "source": [
    "sns.barplot(x=labels, y=sizes, errwidth=2, data=corona1, palette=\"coolwarm\").set(title = 'Dead in the first top 10 listed countries', xlabel = 'Country', ylabel = 'No. of Dead' )\n",
    "plt.show()"
   ]
  },
  {
   "cell_type": "code",
   "execution_count": null,
   "metadata": {},
   "outputs": [],
   "source": [
    "plt.rcParams['figure.figsize']=(10,8)\n",
    "labels = sort_by_death.Country_Region[0:10]\n",
    "sizes = sort_by_death.Recovered[0:10]\n",
    "sns.barplot(x=labels, y=sizes, errwidth=2, data=corona1, palette=\"coolwarm\").set(title = 'recovered in the first top 10 listed countries', xlabel = 'Country', ylabel = 'No. of Dead' )\n",
    "plt.show()"
   ]
  },
  {
   "cell_type": "code",
   "execution_count": null,
   "metadata": {},
   "outputs": [],
   "source": [
    "plt.rcParams['figure.figsize'] = [14, 6]\n",
    "divisions = list(sort_by_death.Country_Region[0:10])\n",
    "#Confirmed=sort_by_death.Confirmed[0:10]\n",
    "Deads = sort_by_death.Death_Rate[0:10]\n",
    "Recovery = sort_by_death.Recovery_Rate[0:10]\n",
    "\n",
    "index = np.arange(10)\n",
    "width = 0.5\n",
    "\n",
    "#plt.bar(index, Confirmed, color='Red', label=\"%Confirmed\")\n",
    "plt.bar(index+width, Recovery, color='Green', label=\"%Recovery\")\n",
    "plt.bar(index+width, Deads, width, color='Yellow', label=\"%Dead\")\n",
    "\n",
    "plt.title(\"(%)Recovery vs. Mortality Rate, Top 10 Countries of the Global List\")\n",
    "#plt.xlabel(\"Countries\")\n",
    "plt.ylabel(\"(%)\")\n",
    "plt.xticks(index+width/2, divisions)\n",
    "        \n",
    "plt.legend(loc='best')        \n",
    "plt.show()"
   ]
  },
  {
   "cell_type": "code",
   "execution_count": null,
   "metadata": {},
   "outputs": [],
   "source": [
    "# LMplot \n",
    "sns.lmplot(x=\"Death_Rate\", y=\"Recovery_Rate\", data=sort_by_death)\n",
    "plt.show()"
   ]
  },
  {
   "cell_type": "markdown",
   "metadata": {},
   "source": [
    "# Time Serie Analysis"
   ]
  },
  {
   "cell_type": "markdown",
   "metadata": {},
   "source": [
    "Daily report since beginning of the Pandemy in all countiries and updated up to today."
   ]
  },
  {
   "cell_type": "code",
   "execution_count": null,
   "metadata": {},
   "outputs": [],
   "source": [
    "corona_cases_time = pd.read_csv(\"https://raw.githubusercontent.com/CSSEGISandData/COVID-19/web-data/data/cases_time.csv\", parse_dates = ['Last_Update','Report_Date_String'])\n",
    "corona_cases_time.head(10)"
   ]
  },
  {
   "cell_type": "code",
   "execution_count": null,
   "metadata": {},
   "outputs": [],
   "source": [
    "corona_time = pd.read_csv('covid.csv', parse_dates = ['ObservationDate','Last Update'])\n",
    "corona_time.head(100)"
   ]
  },
  {
   "cell_type": "code",
   "execution_count": null,
   "metadata": {},
   "outputs": [],
   "source": [
    "print ('Last update: ' + str(corona_time.ObservationDate.max()))"
   ]
  },
  {
   "cell_type": "code",
   "execution_count": null,
   "metadata": {},
   "outputs": [],
   "source": [
    "corona_time"
   ]
  },
  {
   "cell_type": "code",
   "execution_count": null,
   "metadata": {},
   "outputs": [],
   "source": [
    "#the last 4 rows\n",
    "corona_time.tail(4)"
   ]
  },
  {
   "cell_type": "code",
   "execution_count": null,
   "metadata": {},
   "outputs": [],
   "source": [
    "#cleaning\n",
    "corona_time = corona_time.drop(['SNo', 'Last Update'], axis=1)\n",
    "corona_time = corona_time.rename(columns={\n",
    "    'ObservationDate': 'Date', \n",
    "    'Country/Region': 'Country_Region', \n",
    "    'Province/State': 'Province_State'\n",
    "})\n",
    "corona_time.head(2)"
   ]
  },
  {
   "cell_type": "code",
   "execution_count": null,
   "metadata": {},
   "outputs": [],
   "source": [
    "#the first and last recorde\n",
    "(corona_time.Date.min(),corona_time.Date.max())"
   ]
  },
  {
   "cell_type": "code",
   "execution_count": null,
   "metadata": {},
   "outputs": [],
   "source": [
    "corona_time.shape"
   ]
  },
  {
   "cell_type": "code",
   "execution_count": null,
   "metadata": {},
   "outputs": [],
   "source": [
    "#calling the function my_df_summary() to summarize the time-serie records\n",
    "my_df_summary(corona_time)"
   ]
  },
  {
   "cell_type": "markdown",
   "metadata": {},
   "source": [
    "# line plot of the full time series "
   ]
  },
  {
   "cell_type": "code",
   "execution_count": null,
   "metadata": {},
   "outputs": [],
   "source": [
    "corona_time = corona_time.set_index('Date')\n",
    "corona_time "
   ]
  },
  {
   "cell_type": "code",
   "execution_count": null,
   "metadata": {},
   "outputs": [],
   "source": [
    "corona_time['Confirmed'].plot(linewidth=0.5, color='red');\n",
    "plt.title('Infected Cases over Time', size=14)\n",
    "plt.ylabel('No. of confirmed cases')"
   ]
  },
  {
   "cell_type": "code",
   "execution_count": null,
   "metadata": {},
   "outputs": [],
   "source": [
    "corona_time['Deaths'].plot(linewidth=0.5, color='blue');\n",
    "plt.title('Dead Cases over Time', size=14)\n",
    "plt.ylabel('No. of dead cases')"
   ]
  },
  {
   "cell_type": "code",
   "execution_count": null,
   "metadata": {},
   "outputs": [],
   "source": [
    "corona_time['Recovered'].plot(linewidth=0.5, color='green');\n",
    "plt.title('Recovered Cases over Time', size=14)\n",
    "plt.ylabel('No. of recovered cases')\n",
    "plt.show()"
   ]
  },
  {
   "cell_type": "markdown",
   "metadata": {},
   "source": [
    "# Scatter plot of the full time series "
   ]
  },
  {
   "cell_type": "code",
   "execution_count": null,
   "metadata": {},
   "outputs": [],
   "source": [
    "cols_plot = ['Confirmed', 'Recovered', 'Deaths']\n",
    "axes = corona_time[cols_plot].plot(marker='.', alpha=0.5, linestyle='None', figsize=(11, 9), subplots=True)\n",
    "for ax in axes:\n",
    "    ax.set_ylabel(' Total Number')\n",
    "plt.show()"
   ]
  },
  {
   "cell_type": "code",
   "execution_count": null,
   "metadata": {},
   "outputs": [],
   "source": [
    "plt.rcParams['figure.figsize']=(16,8)\n",
    "fig, axs = plt.subplots(2,2)\n",
    "ax = corona_time.loc['2020-01':'2020-02', 'Confirmed'].plot(marker='*', linestyle='None', figsize=(11, 9), ax=axs[0,0], subplots=True)\n",
    "ax = corona_time.loc['2020-02':'2020-03', 'Confirmed'].plot(marker='.', linestyle='None', figsize=(11, 9), ax=axs[0,1], subplots=True)\n",
    "ax = corona_time.loc['2020-03':'2020-04', 'Confirmed'].plot(marker='.', linestyle='None', figsize=(11, 9), ax=axs[1,0], subplots=True)\n",
    "plt.ylabel('No. of dead cases during February and March 2020')\n",
    "plt.show()"
   ]
  },
  {
   "cell_type": "markdown",
   "metadata": {},
   "source": [
    "# Regression"
   ]
  },
  {
   "cell_type": "code",
   "execution_count": null,
   "metadata": {},
   "outputs": [],
   "source": [
    "plt.rcParams['figure.figsize']=(16,8)\n",
    "fig, axs = plt.subplots(1, 2)\n",
    "sort_by_death.plot(kind='scatter', y='Deaths', x='Confirmed', ax=axs[0], colors='green')\n",
    "sort_by_death.plot(kind='scatter', y='Recovered', x='Confirmed', ax=axs[1], colors='green')\n",
    "plt.show()"
   ]
  },
  {
   "cell_type": "markdown",
   "metadata": {},
   "source": [
    "# Forcasting-Train and Split"
   ]
  },
  {
   "cell_type": "code",
   "execution_count": null,
   "metadata": {},
   "outputs": [],
   "source": [
    "corona_time.head(3)"
   ]
  },
  {
   "cell_type": "code",
   "execution_count": null,
   "metadata": {},
   "outputs": [],
   "source": [
    "corona_time_split = corona_time.drop(['Province_State', 'Country_Region'], axis=1)"
   ]
  },
  {
   "cell_type": "code",
   "execution_count": null,
   "metadata": {},
   "outputs": [],
   "source": [
    "corona_time_split1=corona_time_split.drop(['Deaths', 'Recovered'], axis=1)"
   ]
  },
  {
   "cell_type": "code",
   "execution_count": null,
   "metadata": {},
   "outputs": [],
   "source": [
    "corona_time_split1;"
   ]
  },
  {
   "cell_type": "code",
   "execution_count": null,
   "metadata": {},
   "outputs": [],
   "source": [
    "i_split = int(0.95*len(corona_time_split1))\n",
    "df_train, df_test = corona_time_split1.iloc[:i_split,:], corona_time_split1.iloc[i_split:,:]\n",
    "print('Train und Test are zustogether  {} input.'.format(len(df_train)+len(df_test)))\n",
    "print('Forecast mus have just {} Periods.'.format(len(df_test)))"
   ]
  },
  {
   "cell_type": "code",
   "execution_count": null,
   "metadata": {},
   "outputs": [],
   "source": [
    "plt.rcParams['figure.figsize'] = [15, 6]\n",
    "\n",
    "plt.plot(df_train.index, df_train.values, label='Trainingsdaten',color = 'red', ls='-')\n",
    "plt.plot(df_test.index, df_test.values, label='Testdaten')\n",
    "plt.axvline(x = corona_time_split1.index[i_split], linewidth=1, color='green', ls='-')\n",
    "plt.legend(loc=2, fontsize=10)\n",
    "plt.title('Infection Prediction', fontsize=14)\n",
    "plt.xlabel('Time', fontsize=10)\n",
    "plt.ylabel('No. of Confirmed Cases', fontsize=10)\n",
    "plt.show()"
   ]
  }
 ],
 "metadata": {
  "kernelspec": {
   "display_name": "Python 3",
   "language": "python",
   "name": "python3"
  },
  "language_info": {
   "codemirror_mode": {
    "name": "ipython",
    "version": 3
   },
   "file_extension": ".py",
   "mimetype": "text/x-python",
   "name": "python",
   "nbconvert_exporter": "python",
   "pygments_lexer": "ipython3",
   "version": "3.7.4"
  }
 },
 "nbformat": 4,
 "nbformat_minor": 2
}
